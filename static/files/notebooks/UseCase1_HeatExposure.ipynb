{
  "cells": [
    {
      "cell_type": "markdown",
      "metadata": {
        "id": "eqTLiAsJyca5"
      },
      "source": [
        "# Use Case 1: Heat Exposure! 🥵\n",
        "\n",
        "This notebook will guide you through how to analyze temperature and humidity data from the Octopus.\n",
        "\n",
        "## Initial Setup\n",
        "\n",
        "The first thing you need to do, is to check your data from the Octopus deployment that everything looks fine and is ready to be analyzed. This\n"
      ]
    },
    {
      "cell_type": "code",
      "execution_count": null,
      "metadata": {
        "id": "uV-MK44j0Zjw"
      },
      "outputs": [],
      "source": [
        "#Block 1\n",
        "#this block is going to allow the notebook to connect to your google drive so you can interact with it\n",
        "from google.colab import drive\n",
        "drive.mount('/content/drive')"
      ]
    },
    {
      "cell_type": "code",
      "execution_count": null,
      "metadata": {
        "id": "TyYM8PuW0gLr"
      },
      "outputs": [],
      "source": [
        "#Block 2\n",
        "#this block of code is where we get the infrastructure for the notebook set up, by calling libraries\n",
        "import csv\n",
        "import numpy as np\n",
        "\n",
        "#these libraries will help us read in and format the data correctly\n",
        "import pytz\n",
        "import time\n",
        "import pandas as pd\n",
        "from datetime import datetime\n",
        "import os\n",
        "\n",
        "#these libraries will help us with our time series analysis\n",
        "from matplotlib import pyplot as plt\n",
        "from matplotlib import ticker as mticker\n",
        "import matplotlib.dates as mdates\n",
        "from statsmodels.tsa.seasonal import seasonal_decompose"
      ]
    },
    {
      "cell_type": "code",
      "execution_count": null,
      "metadata": {
        "id": "5CrJeuMl0maA"
      },
      "outputs": [],
      "source": [
        "#Block 3\n",
        "#adjust the path below to match your google drive setup! please use the format below:\n",
        "os.chdir('/content/drive/My Drive/path to correct drive/')"
      ]
    },
    {
      "cell_type": "code",
      "execution_count": null,
      "metadata": {
        "id": "svd5Fh6G7D2H"
      },
      "outputs": [],
      "source": [
        "# Block 4\n",
        "# Read the raw data from a CSV file into a DataFrame\n",
        "# adjust name to correct file\n",
        "filename = \"octopus_data_test.txt\"\n",
        "df = pd.read_csv(filename, names=[\"timestamp\", \"temperature\", \"humidity\"])\n",
        "\n",
        "# Display the DataFrame\n",
        "print(df)\n"
      ]
    },
    {
      "cell_type": "markdown",
      "metadata": {
        "id": "ED1sHqM60-8d"
      },
      "source": [
        "# Data preprocessing steps\n",
        "\n",
        "Dependent on you use case and what you want to answer with your data, different pre-processing steps should be done to get the best results possible. In this case, we will conduct Handling Missing Values, Outlier Detection and Removal, Resampling, Normalization, Smoothing and Seasonal Decomposition."
      ]
    },
    {
      "cell_type": "code",
      "execution_count": null,
      "metadata": {
        "id": "JKKnDLer0-Iy"
      },
      "outputs": [],
      "source": [
        "# Block 5\n",
        "# Handling missing values\n",
        "df[\"temperature\"].fillna(method=\"ffill\", inplace=True)\n",
        "df[\"humidity\"].fillna(method=\"ffill\", inplace=True)"
      ]
    },
    {
      "cell_type": "code",
      "execution_count": null,
      "metadata": {
        "id": "FnfSZsof2e6c"
      },
      "outputs": [],
      "source": [
        "# Block 6\n",
        "# Outlier detection and removal (using Z-score)\n",
        "z_scores_temp = (df[\"temperature\"] - df[\"temperature\"].mean()) / df[\"temperature\"].std()\n",
        "z_scores_humidity = (df[\"humidity\"] - df[\"humidity\"].mean()) / df[\"humidity\"].std()\n",
        "df = df[(z_scores_temp.abs() < 3) & (z_scores_humidity.abs() < 3)] # threshold used is ±3"
      ]
    },
    {
      "cell_type": "code",
      "execution_count": null,
      "metadata": {
        "id": "3HXyjUh-2haA"
      },
      "outputs": [],
      "source": [
        "# Block 7\n",
        "# Resampling\n",
        "# This part will depend on the frequency of your collected data, and what you want to analyse.\n",
        "# In this example, the data is collected every second, but we want to analyze the mean values every 15 min\n",
        "# '15T' specifies the new frequency, indicating every 15 minutes. You can change to '1H' if you want every hour.\n",
        "# .mean() specifies the aggregation method, meaning that within each new 15-minute interval, the mean of the values will be calculated.\n",
        "\n",
        "df[\"timestamp\"] = pd.to_datetime(df[\"timestamp\"])\n",
        "df.set_index(\"timestamp\", inplace=True)\n",
        "df = df.resample('15T').mean()"
      ]
    },
    {
      "cell_type": "code",
      "execution_count": null,
      "metadata": {
        "id": "Mx4NDfrj2j-k"
      },
      "outputs": [],
      "source": [
        "# Block 8\n",
        "# Normalization\n",
        "df_normalized = (df - df.mean()) / df.std()"
      ]
    },
    {
      "cell_type": "code",
      "execution_count": null,
      "metadata": {
        "id": "jQYMlB6v2o6_"
      },
      "outputs": [],
      "source": [
        "# Block 9\n",
        "# Smoothing (using 5-point moving average)\n",
        "df_smoothed = df.rolling(window=5).mean()"
      ]
    },
    {
      "cell_type": "code",
      "execution_count": null,
      "metadata": {
        "id": "41n0r3pZ6juc"
      },
      "outputs": [],
      "source": [
        "# Block 10\n",
        "# Seasonal decomposition\n",
        "decomposition = seasonal_decompose(df[\"temperature\"], period=24)  # Assuming daily seasonality 24h\n",
        "trend = decomposition.trend\n",
        "seasonal = decomposition.seasonal\n",
        "residual = decomposition.resid"
      ]
    },
    {
      "cell_type": "markdown",
      "metadata": {
        "id": "dwS9oNkO2PUb"
      },
      "source": [
        "Now you can use **df, df_normalized, df_smoothed, trend, seasonal, and residual for analysis!**\n",
        "\n",
        "\n",
        "\n",
        "# Time Series\n",
        "Now we will plot the data processed to see how it looks! We will start by plotting the data we have in a graph. One for temperature, and one for humidity"
      ]
    },
    {
      "cell_type": "code",
      "execution_count": null,
      "metadata": {
        "id": "8YTP039ivklv"
      },
      "outputs": [],
      "source": [
        "# Block 11\n",
        "# Plot Temperature\n",
        "\n",
        "plt.figure(figsize=(12, 6))\n",
        "plt.plot(df.index, df['temperature'], label='Temperature', color='red', marker='o')\n",
        "plt.xlabel('Index')\n",
        "plt.ylabel('°C')\n",
        "plt.title('First 10 Rows of Environmental Data')\n",
        "plt.legend()\n",
        "plt.grid(True)\n",
        "plt.show()"
      ]
    },
    {
      "cell_type": "code",
      "execution_count": null,
      "metadata": {
        "id": "eJkTO6_4vovH"
      },
      "outputs": [],
      "source": [
        "# Block 12\n",
        "# Plot Humidity\n",
        "\n",
        "plt.figure(figsize=(12, 6))\n",
        "plt.plot(df.index, df['humidity'], label='Humidity', color='blue', marker='o')\n",
        "plt.xlabel('Index')\n",
        "plt.ylabel('%')\n",
        "plt.title('First 10 Rows of Environmental Data')\n",
        "plt.legend()\n",
        "plt.grid(True)\n",
        "plt.show()"
      ]
    },
    {
      "cell_type": "code",
      "execution_count": null,
      "metadata": {
        "id": "rdyrFvPX-sOP"
      },
      "outputs": [],
      "source": []
    }
  ],
  "metadata": {
    "colab": {
      "private_outputs": true,
      "provenance": []
    },
    "kernelspec": {
      "display_name": "Python 3",
      "name": "python3"
    },
    "language_info": {
      "name": "python"
    }
  },
  "nbformat": 4,
  "nbformat_minor": 0
}
